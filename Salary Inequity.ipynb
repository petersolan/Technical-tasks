{
  "metadata": {
    "kernelspec": {
      "name": "python",
      "display_name": "Python (Pyodide)",
      "language": "python"
    },
    "language_info": {
      "codemirror_mode": {
        "name": "python",
        "version": 3
      },
      "file_extension": ".py",
      "mimetype": "text/x-python",
      "name": "python",
      "nbconvert_exporter": "python",
      "pygments_lexer": "ipython3",
      "version": "3.8"
    }
  },
  "nbformat_minor": 4,
  "nbformat": 4,
  "cells": [
    {
      "cell_type": "markdown",
      "source": "Salary Inequity [Python Interview Question]\nGiven a list of salaries, we'll define a metric called inequity which is the difference between max and min salary seen in the list:\n\ninequity=max(input_list)−min(input_list)inequity=max(input_list)−min(input_list)\n\nWrite a function called min_inequity which takes in a list of salaries, and a value n, and returns the minimum inequity possible when taking n salaries from the full salary list.\n\nIf that was hard to understand, you're not alone – let's break it down with some examples.\nExample #1:\n\nsalaries = [60000, 80000, 120000, 70000]\n\nn = 2\n\nThe minimum inequity is $10,000, because max(60000,70000)−min(60000,70000)=10000max(60000,70000)−min(60000,70000)=10000.\nExample #2:\n\nsalaries = [60000, 80000, 120000, 70000]\n\nn = 3\n\nThe minimum inequity is $20,000, because max(60000,70000,80000)−min(60000,70000,80000)=20000max(60000,70000,80000)−min(60000,70000,80000)=20000.",
      "metadata": {}
    },
    {
      "cell_type": "code",
      "source": "def min_inequity(salaries, n):\n    for i in range(n):\n        salaries.sort()\n        date = salaries[:n]\n        value = max(date)-min(date)\n    print(value)\nmin_inequity([60000, 80000, 120000, 70000], 2)",
      "metadata": {
        "trusted": true
      },
      "outputs": [
        {
          "name": "stdout",
          "text": "10000\n",
          "output_type": "stream"
        }
      ],
      "execution_count": 1
    },
    {
      "cell_type": "code",
      "source": "def min_inequity(salaries, n):\n    for i in range(n):\n        salaries.sort()\n        date = salaries[:n]\n        value = max(date)-min(date)\n    print(value)\nmin_inequity([60000, 80000, 120000, 70000], 3)",
      "metadata": {
        "trusted": true
      },
      "outputs": [
        {
          "name": "stdout",
          "text": "20000\n",
          "output_type": "stream"
        }
      ],
      "execution_count": 2
    }
  ]
}